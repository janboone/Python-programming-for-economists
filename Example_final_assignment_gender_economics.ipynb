{
 "cells": [
  {
   "cell_type": "markdown",
   "id": "c6c90dee-6e16-49c5-8e2f-f720455a983e",
   "metadata": {},
   "source": [
    "Before you turn this problem in, make sure everything runs as expected. First, **restart the kernel** (in the menubar, select Kernel$\\rightarrow$Restart) and then **run all cells** (in the menubar, select Cell$\\rightarrow$Run All).\n",
    "\n",
    "Make sure you fill in any place that says `YOUR CODE HERE` or \"YOUR ANSWER HERE\", as well as your name and collaborators below:"
   ]
  },
  {
   "cell_type": "code",
   "execution_count": null,
   "id": "550b2a19-6c76-426b-a9bf-1581192c590e",
   "metadata": {},
   "outputs": [],
   "source": [
    "NAME = \"\"\n",
    "COLLABORATORS = \"\""
   ]
  },
  {
   "cell_type": "markdown",
   "id": "309fdd62-b5a7-4aad-b678-e50426909585",
   "metadata": {},
   "source": [
    "---"
   ]
  },
  {
   "cell_type": "markdown",
   "id": "96c5a4fd-9e22-41bf-b6ec-23844ffca90d",
   "metadata": {},
   "source": [
    "# Python assignment\n",
    "\n",
    "The python assignment you can do either on your own or with one other student (i.e. max group size is 2 students).\n",
    "\n",
    "The first cell of your notebook should contain a table with the names and SNRs and ANRs of the group members, like so\n",
    "\n",
    "|Name|SNR|ANR|\n",
    "|----|---|----|\n",
    "|mery ferrando|12345|u1234|\n",
    "|jan boone|67890|u6786|\n",
    "\n",
    "\n",
    "\n",
    "\n",
    "See [the webpage](https://janboone.github.io/applied-economics/) for details of what we expect to see in this assignment.\n",
    "\n"
   ]
  },
  {
   "cell_type": "markdown",
   "id": "496f36f1-d604-4e86-b91d-5c73c7240c18",
   "metadata": {},
   "source": [
    "# Preamble\n",
    "\n",
    "Before we start the model description, we import the libraries that we will use below."
   ]
  },
  {
   "cell_type": "code",
   "execution_count": 1,
   "id": "68204442-66fb-4685-a565-8c2b6467c64d",
   "metadata": {},
   "outputs": [
    {
     "name": "stderr",
     "output_type": "stream",
     "text": [
      "WARNING (theano.tensor.blas): Using NumPy C-API based implementation for BLAS functions.\n"
     ]
    }
   ],
   "source": [
    "import numpy as np\n",
    "import pandas as pd\n",
    "import scipy as sp\n",
    "import pymc3 as pm\n",
    "import matplotlib.pyplot as plt"
   ]
  },
  {
   "cell_type": "markdown",
   "id": "b5c4f49e-5328-4741-a9b5-12f8cf059c15",
   "metadata": {
    "tags": []
   },
   "source": [
    "# Paper: A model of taste discrimination\n",
    "\n",
    "This is an example final assignment to give you an idea of what we expect you to do. You cannot use this notebook for your own final assignment.\n"
   ]
  },
  {
   "cell_type": "markdown",
   "id": "db3517d6-520f-4b4d-bd96-7aba171484de",
   "metadata": {},
   "source": [
    "In this assignment we do not discuss a paper (as you will do for your final assignment), but the assignment is based on Mery's gender economics lecture.\n",
    "\n",
    "Economists have proposed several theories to explain why workers of certain groups (e.g., minorities, women) might have lower wages than workers of the majority group. One of these theories suggests that discrimination might arise if employers dislike hiring workers of certain groups. This type of discrimination is called taste discrimination.\n",
    "\n",
    "We will see how taste discrimination works with a simple model. We assume that the gains that employers derive from the workers include the profits of the firm and some taste parameters. Let's further assume that some employers dislike hiring workers of a certain group. If the labor market works under perfect competition, discrimination cannot persist. The reason is that employers who do not have a dislike for certain workers, will offer equal wages to all workers, and they will drive the discriminatory employers out of the market. With perfect competition, one unbiased employer is enough to drive out all biased competitors.\n",
    "\n",
    "Therefore, we will study the case of imperfect competition, where discrimination can persist. In particular, we focus on one biased employer who has monopsony power.\n",
    "\n",
    "We will show that taste discrimination leads to lower wages for the employees that the employer dislikes."
   ]
  },
  {
   "cell_type": "markdown",
   "id": "21462a9c-af2e-435b-98fd-91c08ced45a3",
   "metadata": {},
   "source": [
    "# Research question\n",
    "\n",
    "Does the group that is not discriminated against benefit from discrimination?\n",
    "\n",
    "The model focuses on the effects on wage and hiring of the group that is discriminated against. We extend the model a bit to find the effects on the group that is not discriminated against."
   ]
  },
  {
   "cell_type": "markdown",
   "id": "134e6f0a-b319-4872-b105-8b6378e9221c",
   "metadata": {},
   "source": [
    "# Motivation\n",
    "\n",
    "If, in the real world, men benefit from discrimination against women in the labor market, one would expect some resistance from men against reforms that would level the playing field for women. Policy makers should take this expected resistance into account in designing policies to reduce discrimination."
   ]
  },
  {
   "cell_type": "markdown",
   "id": "79d4efdc-2796-46c4-92f0-c5aa31eb710a",
   "metadata": {},
   "source": [
    "# Preview of the answers\n",
    "\n",
    "We find that the employer's bias reduces wage and employment of the group that is discriminated against.\n",
    "\n",
    "For the group that is not discriminated against, we find that discrimination ... their wage and employment. We slightly extend the model by ... and find that in this extended model ...\n",
    "\n",
    "*Note* since we ask you below what the effects are on the group that is not discriminated against, we do not provide the answers here; this explains the \"...\" above. Just to be clear: in your final assignments we expect you to fill in all the dots..."
   ]
  },
  {
   "cell_type": "markdown",
   "id": "2b1629a3-2f00-443a-a667-14956739b913",
   "metadata": {},
   "source": [
    "# Main assumptions\n",
    "\n",
    "In our main model, the important assumptions are that the employer (i) has monopsony power, (ii) is biased against one group in the labor market and (iii) that production is not so profitable that the employer hires all workers.\n",
    "\n",
    "Another assumption is ... which leads to the result on the group that is not discriminated against.\n",
    "\n",
    "We make the following assumption in the extended version of the model: ..."
   ]
  },
  {
   "cell_type": "markdown",
   "id": "0ff7cad3-48bd-44ef-846c-057e9aa38ca9",
   "metadata": {},
   "source": [
    "# Model in the paper\n",
    "\n",
    "*Note* that below we will combine model description and python code, which is something you can do as well in your final assignment.\n",
    "\n",
    "## Imperfect competition and taste discrimination\n",
    "\n",
    "If workers have limited personal mobility, firms can have monopsonic power. This means that employers can pay different wages to workers with the same ability. We will show that discrimination leads to lower wages and lower levels of employment for discriminated workers.\n",
    "\n",
    "We consider a labor market composed of workers and a monopsonist employer. \n",
    "\n",
    "Workers belong to two different groups, denoted $F$ and $M$. All workers have the same productive abilities, and each of them produce a quantity $y$.\n",
    "\n",
    "Each worker is willing to work as long as the wage offered by the monopsonist employer (denoted by $\\mathcal{w_i}$ with $i=F,M$) is at least as high as her outside option. We call this minimum acceptable wage offer the reservation wage. Each worker supplies one unit of labor and the labor supply of workers of group $i$ is equal to:\n",
    "\n",
    "\\begin{equation}\n",
    "\\label{eq:L}\n",
    "L^s(\\mathcal{w_i})=G(\\mathcal{w_i}) , \\quad i=F, M\n",
    "\\end{equation}\n",
    "\n",
    "where $G$ denotes the cumulative distribution function of the reservation wages. We assume $G^\\prime>0, G^{\\prime\\prime}<0$, that is labor supply increases with respect to the wage at a decreasing rate."
   ]
  },
  {
   "cell_type": "markdown",
   "id": "cd5d73e5-37cd-4304-8938-10e72faa1341",
   "metadata": {},
   "source": [
    "# Python code\n",
    "\n",
    "In the code below, we use the `pymc` library to generate random numbers from an [exponential distribution](https://en.wikipedia.org/wiki/Exponential_distribution) with parameter $\\lambda=0.01$.\n",
    "\n",
    "### question: one way in which we can model labor supply in python, is as follows:\n",
    "- explain what `N, N_F, N_M` denote here?\n",
    "- what does `outside_F` represent?"
   ]
  },
  {
   "cell_type": "code",
   "execution_count": 12,
   "id": "3c0ae707-da08-4189-9ffd-4bf8a84589ab",
   "metadata": {},
   "outputs": [],
   "source": [
    "N = 10000\n",
    "N_F = 5000\n",
    "N_M = N - N_F\n",
    "y = 100\n",
    "outside_F = pm.Exponential.dist(0.01).random(size=N_F)\n",
    "outside_M = pm.Exponential.dist(0.01).random(size=N_M)"
   ]
  },
  {
   "cell_type": "markdown",
   "id": "f685867a-061f-4646-893f-709dd6220695",
   "metadata": {},
   "source": [
    "### question: plot labor supply for `F` with labor on the horizontal axis and the wage on the vertical axis."
   ]
  },
  {
   "cell_type": "code",
   "execution_count": null,
   "id": "c5ac023e-c691-4aaf-891b-7622e27482e3",
   "metadata": {},
   "outputs": [],
   "source": [
    "# YOUR CODE HERE"
   ]
  },
  {
   "cell_type": "markdown",
   "id": "d5616ca7-1742-450b-883f-67c68fd55b7a",
   "metadata": {},
   "source": [
    "The monopsonist employer's gain from employing a worker of group $M$ is simply the output minus the wage received by a worker of this group:\n",
    "\n",
    "\\begin{equation}\n",
    "\\pi = y - \\mathcal{w}_M \n",
    "\\end{equation}\n",
    "\n",
    "Given that the employer dislikes hiring workers of group $F$, his gain from employing such a worker is equal to:\n",
    "\n",
    "\\begin{equation}\n",
    "\\pi = y - \\mathcal{w}_F - u\n",
    "\\end{equation}\n",
    "\n",
    "where $u>0$ represents the aversion the employer feels towards workers of group $F$. \n",
    "\n",
    "The employer's maximization problem can be described as follows:\n",
    "\n",
    "\\begin{equation}\n",
    "\\label{eq:maxpr}\n",
    "\\max_{{\\mathcal{w}_F, \\mathcal{w}_M}} \\Pi = G(\\mathcal{w}_F) (y-\\mathcal{w}_F-u)+G(\\mathcal{w}_M)(y-\\mathcal{w}_M), \\quad 0<u<y\n",
    "\\end{equation}\n",
    "\n",
    "Differentiating the objective function with respect to $\\mathcal{w}_F$ and $\\mathcal{w}_M$, we can find the optimality conditions (and the values of the remunerations received by workers of each group).\n",
    "                                                          \n",
    "\\begin{align}\n",
    "\\frac{\\partial \\Pi}{\\partial \\mathcal{w}_F}&=0 \\iff G^{\\prime}(\\mathcal{w}_F)(y-\\mathcal{w}_F-u)-G(\\mathcal{w}_F)=0  \\iff \\\\ \n",
    " & \\quad \\quad  \\iff G^{\\prime}(\\mathcal{w}_F)=\\frac{G(\\mathcal{w}_F)}{(y-\\mathcal{w}_F-u)} \\\\                                                         \\frac{\\partial \\Pi}{\\partial \\mathcal{w}_M}&=0 \\iff G^{\\prime}(\\mathcal{w}_M)=\\frac{G(\\mathcal{w}_M)}{(y-\\mathcal{w}_M)}\n",
    "\\end{align}                                                                                                                               \n",
    "Profits are maximized at the tangency point between the labor supply function and an isoprofit curve. That is, at equilibrium the slope of the labor supply function must be equal to that of the isoprofit curve. We can directly see that the expressions in the left-hand side of the first order conditions above correspond to the slope of the labor supply function ($G^\\prime({\\mathcal{w}_i})$), and we can easily verify that the expressions in the right-hand side correspond to the slope of the isoprofit curve (see *Note* below).  \n",
    "\n",
    "Given that $u>0$, we can see that the slope of the isoprofit curve for the jobs in group $F$ is greater than the slope of the isoprofit curve for the jobs in group $M$ for every pair ($\\mathcal{w}, L$). Now, given that $G(\\mathcal{w_i})$ increases at a decreasing marginal rate (that is, $G^\\prime(\\mathcal{w_i})$ is decreasing), for the first order conditions to be satisfied we need:\n",
    "                                                                            \\begin{equation}                                                  \\mathcal{w}^*_F<\\mathcal{w}^*_M                                                            \\end{equation}\n",
    "                                                                            and hence $L(\\mathcal{w}^*_F)<L(\\mathcal{w}^*_M)$. The intuition for this is simply that fewer workers of group $F$ are willing to work because they are paid a lower wage.  \n",
    "                                                                                                                              \n",
    "                                                         "
   ]
  },
  {
   "cell_type": "markdown",
   "id": "ef9f5305-f9f4-4acc-87c8-b6f2bd3a5cba",
   "metadata": {},
   "source": [
    "The profit function can be programmed as follows. Recall that to get the symbol $\\pi$ in python code, we type `\\pi` and then the TAB key. Jupyter then turns the latex code `\\pi` into the Greek symbol.\n",
    "\n",
    "Total employment is given by $x$ and each employed worker generates output $y$. Each employed worker needs to be paid her/his wage. Further, the employer has aversion $u$ against hiring an `F` employee."
   ]
  },
  {
   "cell_type": "code",
   "execution_count": 32,
   "id": "5638a312-d77f-47ae-8110-d7c9e0ec626c",
   "metadata": {},
   "outputs": [],
   "source": [
    "def π(w_F,w_M,u):\n",
    "    L_F = labour_supply(w_F,outside_F)\n",
    "    L_M = labour_supply(w_M,outside_M)\n",
    "    x = L_F + L_M\n",
    "    return y*x - L_F*(w_F+u) - L_M*(w_M)"
   ]
  },
  {
   "cell_type": "markdown",
   "id": "69b2b903-2300-4c6c-98ff-c944c7373631",
   "metadata": {},
   "source": [
    "Now we solve for the profit maximizing wages for `F` and `M`. Since the function $\\pi$ is not differentiable, we use `method='Nelder-Mead'` here. We did not discuss this in class, so do not worry about this."
   ]
  },
  {
   "cell_type": "code",
   "execution_count": 33,
   "id": "91699a85-67ee-4511-a0ac-26349a0fbbce",
   "metadata": {},
   "outputs": [
    {
     "data": {
      "text/plain": [
       " final_simplex: (array([[43.81503564, 44.61405228],\n",
       "       [43.81503565, 44.61405229],\n",
       "       [43.81503565, 44.61405231]]), array([-201034.80322838, -201034.80320824, -201034.80316877]))\n",
       "           fun: -201034.80322838147\n",
       "       message: 'Optimization terminated successfully.'\n",
       "          nfev: 211\n",
       "           nit: 105\n",
       "        status: 0\n",
       "       success: True\n",
       "             x: array([43.81503564, 44.61405228])"
      ]
     },
     "execution_count": 33,
     "metadata": {},
     "output_type": "execute_result"
    }
   ],
   "source": [
    "outcome_no_discrimination = sp.optimize.minimize(lambda x: -π(x[0],x[1],0), [65,65],method='Nelder-Mead')\n",
    "outcome_no_discrimination"
   ]
  },
  {
   "cell_type": "markdown",
   "id": "b9012764-89e8-469a-b1ed-c9631ce079ca",
   "metadata": {},
   "source": [
    "### question: why is the outcome not perfectly symmetric?"
   ]
  },
  {
   "cell_type": "markdown",
   "id": "318be990-923e-4f62-ba06-aa5311efe18e",
   "metadata": {},
   "source": [
    "-----------------------------------\n",
    "*Note* here we illustrate different ways in which you can calculate/think of the profit maximizing wages. In your own final assignment you do not need to illustrate outcomes to this extend.\n",
    "\n",
    "We compute the slope of the isoprofit curve for workers of group $F$ (similar reasoning can be applied to workers of group $M$).  \n",
    "\n",
    "\n",
    "The employer's profits from hiring workers of group $F$ can be written as: \n",
    "\\begin{equation}\n",
    "\\pi=L^s(\\mathcal{w}_F)(y-\\mathcal{w}_F-u)                                \n",
    "\\end{equation}                                                             \n",
    " \n",
    "Hence, points along a given isoprofit curve satisfy:\n",
    "\\begin{equation}\n",
    "\\bar{\\pi}=L^s(\\mathcal{w}_F)(y-\\mathcal{w}_F-u)                                                 \n",
    "\\end{equation}      \n",
    "\n",
    "We can total differentiate the isoprofit curve to get:\n",
    "\\begin{equation}\n",
    "dL^s(\\mathcal{w}_F)(y−\\mathcal{w}_F-u) − L^s(\\mathcal{w}_F)d\\mathcal{w}_F = 0 \\iff \\frac{dL^s(\\mathcal{w}_F)}{d\\mathcal{w}_F} = \\frac{L^s(\\mathcal{w}_F)}{y-\\mathcal{w}_F-u}\n",
    "\\end{equation}\n",
    "\n",
    "\n",
    "\n",
    "### question: illustrate this reasoning with your plot of labor supply from above and the \"correct\" iso-profit curve for the case where there is no discrimination (`u=0`).\n",
    "\n",
    "\n",
    "\n"
   ]
  },
  {
   "cell_type": "code",
   "execution_count": 1,
   "id": "1732a92e-3834-43c5-a09b-c9c0bb19c46a",
   "metadata": {},
   "outputs": [],
   "source": [
    "# YOUR CODE HERE"
   ]
  },
  {
   "cell_type": "markdown",
   "id": "e25925a8-714d-4d90-b15f-b7a278f24642",
   "metadata": {},
   "source": [
    "Another way in which we can visualize what the profit maximizing wages are, is to use a 3D-plot: $\\mathcal{w}_F,\\mathcal{w}_M$ on the $x,y$ axes and profits on the $z$ axis. Such 3D plots are often hard to get right, and hence we use a contour plot here.\n",
    "\n",
    "The lines in the contour plot are iso-profit lines and you can see how the \"top of the mountain\" is around the point $(45,45)$.\n",
    "\n",
    "To facilitate the creation of the contour plot, we use the following:\n",
    "- the \"decorator\" `@np.vectorize`\n",
    "- the function `np.meshgrid`\n",
    "- and the function `contour` from `matplotlib`\n",
    "\n",
    "The decorator [vectorize](https://numpy.org/doc/stable/reference/generated/numpy.vectorize.html) makes sure that we can use vectors for `w_F,w_M` although the function was actually defined with scalars `w_F,w_M` in mind.\n",
    "\n",
    "To see what the function `meshgrid` does, you can apply to it to a simple example like `np.meshgrid(np.arange(5),np.arange(5))` and you see what it does. It is very useful when you want to calculate a function $f(x,y)$ for all combinations of values $(x,y)$ without using double for-loops.\n",
    "\n",
    "Finally, the function `contour` takes values for $X,Y$ and $Z$ and shows the combination of $x,y$ where $z$ is constant."
   ]
  },
  {
   "cell_type": "code",
   "execution_count": 38,
   "id": "cb3768e4-3d3b-4686-844e-c2adbe2692d5",
   "metadata": {},
   "outputs": [
    {
     "data": {
      "image/png": "[encoded data removed]",
      "text/plain": [
       "<Figure size 432x288 with 1 Axes>"
      ]
     },
     "metadata": {
      "needs_background": "light"
     },
     "output_type": "display_data"
    }
   ],
   "source": [
    "@np.vectorize\n",
    "def π(w_F,w_M,u):\n",
    "    L_F = labour_supply(w_F,outside_F)\n",
    "    L_M = labour_supply(w_M,outside_M)\n",
    "    x = L_F + L_M\n",
    "    return y*x - L_F*(w_F+u) - L_M*(w_M)\n",
    "\n",
    "# Make data.\n",
    "range_w = np.arange(20,70)\n",
    "X, Y = np.meshgrid(range_w,range_w)\n",
    "Z = π(X,Y,0)\n",
    "\n",
    "# Plot the surface.\n",
    "fig, ax = plt.subplots()\n",
    "\n",
    "CS = ax.contour(X, Y, Z)\n",
    "ax.clabel(CS, inline=True, fontsize=10)\n",
    "ax.set_xlabel('$w_F$')\n",
    "ax.set_ylabel('$w_M$');"
   ]
  },
  {
   "cell_type": "markdown",
   "id": "6d4eb9ca-c468-461c-b117-4a2eb8b5eae3",
   "metadata": {},
   "source": [
    "---------------------------------------------------------"
   ]
  },
  {
   "cell_type": "markdown",
   "id": "73ac94c3-28bb-4b3f-a52d-a2a345077f2a",
   "metadata": {},
   "source": [
    "Now we want to understand how discrimination $u>0$ affects wages `w_F,w_M` and employment of the two groups.\n",
    "\n",
    "Using the first order conditions above, we can derive the exact expressions for the equilibrium wages of workers in each group. It is convenient to express them as a function of the wage elasticity of labor supply.                                                                                                 \n",
    "\n",
    "\n",
    "We can rearrange the first order condition for $\\mathcal{w}_F$ above as follows: \n",
    "   \n",
    "\\begin{align}\n",
    "  G^\\prime(\\mathcal{w}_F)(y-\\mathcal{w}_F-u)&-G(\\mathcal{w}_F)=0 \\iff \\frac{G^\\prime(\\mathcal{w}_F)}{G(\\mathcal{w}_F)}(y-\\mathcal{w}_F-u) - 1=0 \\iff \\\\\n",
    "                                                                    \\iff   & \\frac{G^\\prime(\\mathcal{w}_F)}{G(\\mathcal{w}_F)}\\mathcal{w}_F \\left(\\frac{y-u}{\\mathcal{w}_F} -1 \\right) - 1=0   \n",
    "\\end{align}\n",
    "                                                                                                                              \n",
    "Define $\\eta^L_\\mathcal{w}(\\mathcal{w_i}) = \\frac{G^\\prime(\\mathcal{w_i})}{G(\\mathcal{w_i})}\\mathcal{w_i}$ the wage elasticity of labor supply for workers of group $i=F, M$. Recall that $L^s(\\mathcal{w_i})=G(\\mathcal{w_i})$, and hence $G^\\prime(\\mathcal{w_i})=\\frac{\\partial L^s(\\mathcal{w_i})}{\\partial \\mathcal{w_i}}$.\n",
    "                                         \n",
    "We do some additional rearrangements to find the equilibrium wage for workers of group $F$ ($\\mathcal{w}_F^*$) as a function of the wage elasticity of labor supply and other parameters of the model:\n",
    "                                                                                                                              \n",
    "\\begin{align}\n",
    "\\frac{G^\\prime(\\mathcal{w}_F)}{G(\\mathcal{w}_F)}&\\mathcal{w}_F \\left(\\frac{y-u}{\\mathcal{w}_F} -1 \\right) - 1=0 \\iff\n",
    "\\eta^L_{\\mathcal{w}}(\\mathcal{w}_F) \\left(\\frac{y-u}{\\mathcal{w}_F}-1 \\right) =1 \\iff \\\\\n",
    "    &\\iff                                                           \\frac{y-u}{\\mathcal{w}_F}=\\frac{1}{\\eta^L_{\\mathcal{w}}(\\mathcal{w}_F)}+1 \\iff                                                                      \\mathcal{w}^*_F=(y-u)\\frac{\\eta^L_{\\mathcal{w}}(\\mathcal{w}^*_F)}{1+\\eta^L_{\\mathcal{w}}(\\mathcal{w}^*_F)}\n",
    "\\end{align}\n",
    " \n",
    "Note that $\\mathcal{w}^*_F<y$, where $y$ is the marginal product of labor or productivity. Under perfect competition, the equilibrium wage must be equal to the marginal product of labor. This implies that the monopsonist sets a lower wage than the competitive wage. There are two reasons for this. First, the employer is a monopsonist, and hence has market power. Second, the employer pays a lower wage to workers of group $F$ because of the aversion that he feels towards them, given by parameter $u$. \n",
    "                                                                                         \n",
    "Using a similar reasoning, we can get the equilibrium wage for workers of group $M$:\n",
    "                                                                           \\begin{equation}            \n",
    "   \\mathcal{w}^*_M=y\\frac{\\eta^L_{\\mathcal{w}}(\\mathcal{w}^*_M)}{1+\\eta^L_{\\mathcal{w}}(\\mathcal{w}^*_M)}\n",
    "\\end{equation}   \n",
    "\n",
    "Note that $\\frac{\\eta^L_{\\mathcal{w}}(\\mathcal{w}^*_M)}{1+\\eta^L_{\\mathcal{w}}(\\mathcal{w}^*_M)}<1$ implies that, again, $\\mathcal{w}^*_M < y$. But workers of group $M$ do not get penalized by the dislike parameter.\n",
    "                                                                                                                              \n",
    "We have found that $\\mathcal{w}_F^*<\\mathcal{w}_M^*$, and  $L^s(\\mathcal{w}_F^*)<L^s(\\mathcal{w}_M^*)$. \n",
    "Therefore, the monopsony model shows that the taste for discrimination leads to lower wages and lower levels of employment for members of the discriminated groups.                                                                         \n",
    "In python we can numerically calculate the equilibrium wages for different values of $u$."
   ]
  },
  {
   "cell_type": "markdown",
   "id": "b1062084-1c4d-40dc-b82f-62c35797b317",
   "metadata": {},
   "source": [
    "### question: plot equibrium wages for `F` and `M` for a range of values of `u` and save the outcomes in a `pandas` dataframe"
   ]
  },
  {
   "cell_type": "code",
   "execution_count": null,
   "id": "add3b485-d9db-40b0-b023-c6fb23189696",
   "metadata": {},
   "outputs": [],
   "source": [
    "# YOUR CODE HERE"
   ]
  },
  {
   "cell_type": "markdown",
   "id": "508113ab-baa6-418f-8a4a-1b59a4e75b17",
   "metadata": {},
   "source": [
    "### question: plot the number of `F` and `M` employees hired. "
   ]
  },
  {
   "cell_type": "code",
   "execution_count": 2,
   "id": "bf5536a1-e800-4b56-92cf-3d6c8b5973ff",
   "metadata": {},
   "outputs": [],
   "source": [
    "# YOUR CODE HERE"
   ]
  },
  {
   "cell_type": "markdown",
   "id": "9b2e42ac-b022-40c5-b471-1fbb60456f98",
   "metadata": {},
   "source": [
    "### question: what do you see? What is the intuition for this?\n",
    "\n",
    "In particular, one would expect that `M` employees benefit from the discrimination $u>0$ against `F` employees. Do we see this in the model here? Why (not)?\n",
    "\n",
    "### question: if `M` does not benefit from the discrimination against `F`, can you adapt the model (slightly) so that this intuition can be seen in the model?"
   ]
  },
  {
   "cell_type": "markdown",
   "id": "d2e812b7-d877-4380-b932-f95f3d984a2c",
   "metadata": {},
   "source": [
    "Now we can see that `M` employees clearly benefit from discrimination ($u>0$) against `F`. As $u$ increases, hiring `F` employees becomes less attractive for the firm. Hiring fewer `F` employees, reduces production and hence increase the price of output. This makes it more attractive to hire `M` employees, thereby increasing their wages.\n"
   ]
  },
  {
   "cell_type": "code",
   "execution_count": 3,
   "id": "62e22351-0666-46bf-bc9d-45d3d725ff7a",
   "metadata": {},
   "outputs": [],
   "source": [
    "# YOUR CODE HERE"
   ]
  },
  {
   "cell_type": "markdown",
   "id": "58174a2f-d51c-412d-8f1d-9fbcd1f118bf",
   "metadata": {},
   "source": [
    "# Discussion and conclusion\n",
    "\n",
    "We analyzed a model where the employer is biased against a group of employees. The bias causes this group to have a lower wage and lower employment. The group that is not discriminated against has ...\n",
    "\n",
    "We extend the model with ... and then the group that is not discriminated against ...\n",
    "\n",
    "The policy implication of this finding is that ...\n",
    "\n",
    "An important assumption of the model is that the employer has monopsony power. This form of market power allows the employer's bias to affect wages and employment. Since workers are generally speaking not perfectly mobile (e.g. due to their education or home location) this seems a more reasonable assumption in many employment contexts than perfect competition. This model then explains how employers' biases cause adverse labor market outcomes for the group that is discriminated against."
   ]
  },
  {
   "cell_type": "markdown",
   "id": "b5eb0eb9-4050-49e5-b877-1aa978685e17",
   "metadata": {},
   "source": [
    "# Postscript\n",
    "\n",
    "A couple of things to note about this notebook as final assignment.\n",
    "\n",
    "First, we turned the notebook into a programming exercise (with questions) that we discuss in class. You (obviously) do not need to do this for your final assignment.\n",
    "\n",
    "Second, Mery in her lecture discussed more things than we report in this notebook. This applies for your final assignment as well. You do **not** need to replicate all the analysis of the paper in your final assignment. Choose a story line \"through the paper\". Report the results from the paper to get to a coherent analysis leading up to your (small) extension of the paper.\n",
    "\n",
    "Third, we have chosen one option here to extend the model (what is the effect on `M` employees on discrimination against `F` employees), but you could have chosen a different question. E.g. if we observe in reality that $\\mathcal{w}_F < \\mathcal{w}_M$ does this prove that (some) employers discriminate ($u>0$) against the `F` employees? Or can the model give other explanations for $\\mathcal{w}_F < \\mathcal{w}_M$ etc."
   ]
  },
  {
   "cell_type": "code",
   "execution_count": null,
   "id": "a5c3e9e4-1b65-4ccd-8124-f577b4c649aa",
   "metadata": {},
   "outputs": [],
   "source": []
  }
 ],
 "metadata": {
  "kernelspec": {
   "display_name": "Python 3 (ipykernel)",
   "language": "python",
   "name": "python3"
  },
  "language_info": {
   "codemirror_mode": {
    "name": "ipython",
    "version": 3
   },
   "file_extension": ".py",
   "mimetype": "text/x-python",
   "name": "python",
   "nbconvert_exporter": "python",
   "pygments_lexer": "ipython3",
   "version": "3.11.5"
  }
 },
 "nbformat": 4,
 "nbformat_minor": 5
}
